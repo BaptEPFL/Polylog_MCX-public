{
 "cells": [
  {
   "cell_type": "markdown",
   "id": "73b28b1a-1d8f-48a3-a29d-c14e5b15be7b",
   "metadata": {},
   "source": [
    "# How to compile a $\\Theta(\\log(n)^3)$ depth $C^n(X)$ gate?"
   ]
  },
  {
   "cell_type": "markdown",
   "id": "6dec2c66-797b-4fd4-a011-8642b35b20a7",
   "metadata": {},
   "source": [
    "## In the basis of $X, C^1(X), C^2(X)$ gates"
   ]
  },
  {
   "cell_type": "code",
   "execution_count": 1,
   "id": "ca3076a1-4585-4714-9f77-01dbbf85e9b4",
   "metadata": {},
   "outputs": [
    {
     "name": "stdout",
     "output_type": "stream",
     "text": [
      "The circuits are compiled in the [x, cx, ccx] basis.\n"
     ]
    },
    {
     "data": {
      "text/html": [
       "<pre style=\"word-wrap: normal;white-space: pre;background: #fff0;line-height: 1.1;font-family: &quot;Courier New&quot;,Courier,monospace\">          ┌───┐┌───┐     ┌───┐┌───┐     ┌───┐┌───┐     ┌───┐┌───┐\n",
       "q_0: ──■──┤ X ├┤ X ├──■──┤ X ├┤ X ├──■──┤ X ├┤ X ├──■──┤ X ├┤ X ├\n",
       "       │  └─┬─┘└───┘  │  └───┘└─┬─┘  │  └─┬─┘└───┘  │  └───┘└─┬─┘\n",
       "q_1: ──■────┼─────────┼─────────┼────■────┼─────────┼─────────┼──\n",
       "       │    │         │         │    │    │         │         │  \n",
       "q_2: ──┼────■─────────┼─────────■────┼────■─────────┼─────────■──\n",
       "       │    │         │         │    │    │         │         │  \n",
       "q_3: ──┼────■─────────┼─────────■────┼────■─────────┼─────────■──\n",
       "     ┌─┴─┐            │            ┌─┴─┐            │            \n",
       "q_4: ┤ X ├────────────■────────────┤ X ├────────────■────────────\n",
       "     └───┘          ┌─┴─┐          └───┘          ┌─┴─┐          \n",
       "q_5: ───────────────┤ X ├─────────────────────────┤ X ├──────────\n",
       "                    └───┘                         └───┘          </pre>"
      ],
      "text/plain": [
       "          ┌───┐┌───┐     ┌───┐┌───┐     ┌───┐┌───┐     ┌───┐┌───┐\n",
       "q_0: ──■──┤ X ├┤ X ├──■──┤ X ├┤ X ├──■──┤ X ├┤ X ├──■──┤ X ├┤ X ├\n",
       "       │  └─┬─┘└───┘  │  └───┘└─┬─┘  │  └─┬─┘└───┘  │  └───┘└─┬─┘\n",
       "q_1: ──■────┼─────────┼─────────┼────■────┼─────────┼─────────┼──\n",
       "       │    │         │         │    │    │         │         │  \n",
       "q_2: ──┼────■─────────┼─────────■────┼────■─────────┼─────────■──\n",
       "       │    │         │         │    │    │         │         │  \n",
       "q_3: ──┼────■─────────┼─────────■────┼────■─────────┼─────────■──\n",
       "     ┌─┴─┐            │            ┌─┴─┐            │            \n",
       "q_4: ┤ X ├────────────■────────────┤ X ├────────────■────────────\n",
       "     └───┘          ┌─┴─┐          └───┘          ┌─┴─┐          \n",
       "q_5: ───────────────┤ X ├─────────────────────────┤ X ├──────────\n",
       "                    └───┘                         └───┘          "
      ]
     },
     "execution_count": 1,
     "metadata": {},
     "output_type": "execute_result"
    }
   ],
   "source": [
    "from log_3_mcx_x_cx_ccx import log3_cnx\n",
    "from qiskit import transpile, QuantumCircuit\n",
    "\n",
    "ncontrol = 4\n",
    "gate = log3_cnx(ncontrol=ncontrol, trace_depth_and_size=True)\n",
    "nqubits = ncontrol+2\n",
    "qc = QuantumCircuit(nqubits)\n",
    "qc.append(gate, list(range(nqubits)))\n",
    "qc = transpile(qc, basis_gates=['x', 'cx', 'ccx'])\n",
    "qc.draw()"
   ]
  },
  {
   "cell_type": "markdown",
   "id": "33075369-1386-4d0f-95d6-8f1e2a52058d",
   "metadata": {},
   "source": [
    "## In the basis of single-qubit gates and CNOTs"
   ]
  },
  {
   "cell_type": "markdown",
   "id": "cc0c097f-ded9-4957-8aec-ad3a67299dcb",
   "metadata": {},
   "source": [
    "Import log3_cnx."
   ]
  },
  {
   "cell_type": "code",
   "execution_count": 2,
   "id": "73209005-8f66-48a2-ab6f-461167d5290c",
   "metadata": {},
   "outputs": [
    {
     "name": "stdout",
     "output_type": "stream",
     "text": [
      "The circuits are compiled in the [u, cx] basis.\n"
     ]
    }
   ],
   "source": [
    "from log_3_mcx import log3_cnx"
   ]
  },
  {
   "cell_type": "markdown",
   "id": "8b5bfa4f-01a2-4463-9423-21d70161914b",
   "metadata": {},
   "source": [
    "Define the number of control qubits. Compile the $C^n(X)$ gate as follows."
   ]
  },
  {
   "cell_type": "code",
   "execution_count": 3,
   "id": "9b06e10c-ace0-4624-a809-3ed7113183ab",
   "metadata": {},
   "outputs": [],
   "source": [
    "ncontrol = 35\n",
    "gate = log3_cnx(ncontrol=ncontrol, trace_depth_and_size=True)"
   ]
  },
  {
   "cell_type": "markdown",
   "id": "b4334c38-3b88-4e84-b5a7-6c098f845643",
   "metadata": {},
   "source": [
    "To use it in a QuantumCircuit, do the following."
   ]
  },
  {
   "cell_type": "code",
   "execution_count": 4,
   "id": "257b36d5-2412-455b-a4a2-57ce88f85226",
   "metadata": {},
   "outputs": [
    {
     "data": {
      "text/plain": [
       "<qiskit.circuit.instructionset.InstructionSet at 0x122f1bca0>"
      ]
     },
     "execution_count": 4,
     "metadata": {},
     "output_type": "execute_result"
    }
   ],
   "source": [
    "nqubits = ncontrol+2\n",
    "qc = QuantumCircuit(nqubits)\n",
    "qc.append(gate, list(range(nqubits)))"
   ]
  },
  {
   "cell_type": "code",
   "execution_count": null,
   "id": "1b9133d9-fc3e-4d3d-9983-8898aa872a11",
   "metadata": {},
   "outputs": [],
   "source": []
  },
  {
   "cell_type": "code",
   "execution_count": null,
   "id": "5872c362-82c5-4a79-aa60-434c5911ed01",
   "metadata": {},
   "outputs": [],
   "source": []
  }
 ],
 "metadata": {
  "kernelspec": {
   "display_name": "Python 3",
   "language": "python",
   "name": "python3"
  },
  "language_info": {
   "codemirror_mode": {
    "name": "ipython",
    "version": 3
   },
   "file_extension": ".py",
   "mimetype": "text/x-python",
   "name": "python",
   "nbconvert_exporter": "python",
   "pygments_lexer": "ipython3",
   "version": "3.9.2"
  }
 },
 "nbformat": 4,
 "nbformat_minor": 5
}
