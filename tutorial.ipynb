{
 "cells": [
  {
   "cell_type": "markdown",
   "id": "73b28b1a-1d8f-48a3-a29d-c14e5b15be7b",
   "metadata": {},
   "source": [
    "# How to compile a $\\Theta(\\log(n)^3)$ depth $C^n(X)$ gate?"
   ]
  },
  {
   "cell_type": "markdown",
   "id": "cc0c097f-ded9-4957-8aec-ad3a67299dcb",
   "metadata": {},
   "source": [
    "Import log3_cnx."
   ]
  },
  {
   "cell_type": "code",
   "execution_count": 1,
   "id": "73209005-8f66-48a2-ab6f-461167d5290c",
   "metadata": {},
   "outputs": [],
   "source": [
    "from log_3_mcx import log3_cnx"
   ]
  },
  {
   "cell_type": "markdown",
   "id": "8b5bfa4f-01a2-4463-9423-21d70161914b",
   "metadata": {},
   "source": [
    "Define the number of control qubits. Compile the $C^n(X)$ gate as follows."
   ]
  },
  {
   "cell_type": "code",
   "execution_count": 2,
   "id": "9b06e10c-ace0-4624-a809-3ed7113183ab",
   "metadata": {},
   "outputs": [],
   "source": [
    "ncontrol = 35\n",
    "gate = log3_cnx(ncontrol=ncontrol, trace_depth_and_size=True)"
   ]
  },
  {
   "cell_type": "markdown",
   "id": "b4334c38-3b88-4e84-b5a7-6c098f845643",
   "metadata": {},
   "source": [
    "To use it in a QuantumCircuit, do the following."
   ]
  },
  {
   "cell_type": "code",
   "execution_count": 3,
   "id": "257b36d5-2412-455b-a4a2-57ce88f85226",
   "metadata": {},
   "outputs": [
    {
     "data": {
      "text/plain": [
       "<qiskit.circuit.instructionset.InstructionSet at 0x11c370c70>"
      ]
     },
     "execution_count": 3,
     "metadata": {},
     "output_type": "execute_result"
    }
   ],
   "source": [
    "from qiskit import QuantumCircuit\n",
    "nqubits = ncontrol+2\n",
    "qc = QuantumCircuit(nqubits)\n",
    "qc.append(gate, list(range(nqubits)))"
   ]
  },
  {
   "cell_type": "code",
   "execution_count": null,
   "id": "133f55f8-269f-4f58-a2e6-e9271ec49b90",
   "metadata": {},
   "outputs": [],
   "source": []
  },
  {
   "cell_type": "code",
   "execution_count": null,
   "id": "ca3076a1-4585-4714-9f77-01dbbf85e9b4",
   "metadata": {},
   "outputs": [],
   "source": []
  }
 ],
 "metadata": {
  "kernelspec": {
   "display_name": "Python 3",
   "language": "python",
   "name": "python3"
  },
  "language_info": {
   "codemirror_mode": {
    "name": "ipython",
    "version": 3
   },
   "file_extension": ".py",
   "mimetype": "text/x-python",
   "name": "python",
   "nbconvert_exporter": "python",
   "pygments_lexer": "ipython3",
   "version": "3.9.2"
  }
 },
 "nbformat": 4,
 "nbformat_minor": 5
}
