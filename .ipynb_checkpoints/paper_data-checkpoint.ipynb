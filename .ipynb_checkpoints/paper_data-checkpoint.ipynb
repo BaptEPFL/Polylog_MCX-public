{
 "cells": [
  {
   "cell_type": "code",
   "execution_count": 1,
   "id": "268d21c9-6bd5-4e89-afd2-c6fc13ad8e90",
   "metadata": {},
   "outputs": [],
   "source": [
    "from log_3_mcx import log3_cnx, access_polylog_depth\n",
    "from qiskit import QuantumCircuit\n",
    "from qiskit.compiler import transpile\n",
    "import numpy as np\n",
    "import scipy"
   ]
  },
  {
   "cell_type": "markdown",
   "id": "95116cc3-30e9-4c80-a693-f130ac08be13",
   "metadata": {},
   "source": [
    "# Comparison of circuit depths for methods involving a single or no ancilla"
   ]
  },
  {
   "cell_type": "code",
   "execution_count": 2,
   "id": "4dbee432-1c52-42ad-a5c0-ad77f7547773",
   "metadata": {},
   "outputs": [],
   "source": [
    "barenco_one = lambda n : 48*n-148\n",
    "gidney = lambda n : 494*n-1413"
   ]
  },
  {
   "cell_type": "code",
   "execution_count": 3,
   "id": "6b7fe6ba-50f2-4ea2-9a9e-95f0b76899ae",
   "metadata": {},
   "outputs": [
    {
     "ename": "NameError",
     "evalue": "name 'silva' is not defined",
     "output_type": "error",
     "traceback": [
      "\u001b[0;31m---------------------------------------------------------------------------\u001b[0m",
      "\u001b[0;31mNameError\u001b[0m                                 Traceback (most recent call last)",
      "\u001b[0;32m<ipython-input-3-325f4b4c2c83>\u001b[0m in \u001b[0;36m<module>\u001b[0;34m\u001b[0m\n\u001b[1;32m      1\u001b[0m \u001b[0mxrange\u001b[0m \u001b[0;34m=\u001b[0m \u001b[0mnp\u001b[0m\u001b[0;34m.\u001b[0m\u001b[0mlogspace\u001b[0m\u001b[0;34m(\u001b[0m\u001b[0;36m1\u001b[0m\u001b[0;34m,\u001b[0m \u001b[0;36m7\u001b[0m\u001b[0;34m,\u001b[0m \u001b[0;36m50\u001b[0m\u001b[0;34m)\u001b[0m\u001b[0;34m\u001b[0m\u001b[0;34m\u001b[0m\u001b[0m\n\u001b[0;32m----> 2\u001b[0;31m \u001b[0msilva_depth\u001b[0m \u001b[0;34m=\u001b[0m \u001b[0msilva\u001b[0m\u001b[0;34m(\u001b[0m\u001b[0mxrange\u001b[0m\u001b[0;34m)\u001b[0m\u001b[0;34m\u001b[0m\u001b[0;34m\u001b[0m\u001b[0m\n\u001b[0m\u001b[1;32m      3\u001b[0m \u001b[0mbarenco_one_depth\u001b[0m \u001b[0;34m=\u001b[0m \u001b[0mbarenco_one\u001b[0m\u001b[0;34m(\u001b[0m\u001b[0mxrange\u001b[0m\u001b[0;34m)\u001b[0m\u001b[0;34m\u001b[0m\u001b[0;34m\u001b[0m\u001b[0m\n\u001b[1;32m      4\u001b[0m \u001b[0mgidney_depth\u001b[0m \u001b[0;34m=\u001b[0m \u001b[0mgidney\u001b[0m\u001b[0;34m(\u001b[0m\u001b[0mxrange\u001b[0m\u001b[0;34m)\u001b[0m\u001b[0;34m\u001b[0m\u001b[0;34m\u001b[0m\u001b[0m\n\u001b[1;32m      5\u001b[0m \u001b[0mnp\u001b[0m\u001b[0;34m.\u001b[0m\u001b[0msave\u001b[0m\u001b[0;34m(\u001b[0m\u001b[0;34m'data/barenco_one_depth.npy'\u001b[0m\u001b[0;34m,\u001b[0m \u001b[0mbarenco_one_depth\u001b[0m\u001b[0;34m)\u001b[0m\u001b[0;34m\u001b[0m\u001b[0;34m\u001b[0m\u001b[0m\n",
      "\u001b[0;31mNameError\u001b[0m: name 'silva' is not defined"
     ]
    }
   ],
   "source": [
    "xrange = np.logspace(1, 7, 50)\n",
    "silva_depth = silva(xrange)\n",
    "barenco_one_depth = barenco_one(xrange)\n",
    "gidney_depth = gidney(xrange)\n",
    "np.save('data/barenco_one_depth.npy', barenco_one_depth)\n",
    "np.save('data/gidney_depth.npy',gidney_depth)"
   ]
  },
  {
   "cell_type": "code",
   "execution_count": 3,
   "id": "fa319fd5-c3c8-4f33-8787-613b1997ff47",
   "metadata": {},
   "outputs": [
    {
     "name": "stdout",
     "output_type": "stream",
     "text": [
      "10 337\n",
      "13 470\n",
      "17 662\n",
      "23 950\n",
      "30 1297\n",
      "40 1772\n",
      "54 2186\n",
      "71 2696\n",
      "95 3228\n",
      "126 4070\n",
      "167 4690\n",
      "222 5650\n",
      "294 6756\n",
      "390 8210\n",
      "517 9244\n",
      "686 11002\n",
      "910 12366\n",
      "1206 13744\n",
      "1599 16172\n",
      "2120 17532\n",
      "2811 20428\n",
      "3727 21892\n",
      "4941 24552\n",
      "6551 26532\n",
      "8685 29664\n",
      "11513 33236\n",
      "15264 36636\n",
      "20235 38344\n",
      "26826 43504\n",
      "35564 47072\n",
      "47148 50940\n",
      "62505 54988\n",
      "82864 58668\n",
      "109854 67624\n",
      "145634 71944\n",
      "193069 75380\n",
      "255954 80892\n",
      "339322 85964\n",
      "449843 95892\n",
      "596362 100396\n",
      "790604 106484\n",
      "1048113 113400\n",
      "1389495 118592\n",
      "1842069 134744\n",
      "2442053 137888\n",
      "3237457 143536\n",
      "4291934 151136\n",
      "5689866 157488\n",
      "7543120 174272\n",
      "10000000 175456\n"
     ]
    }
   ],
   "source": [
    "depths = []\n",
    "\n",
    "for n in xrange:\n",
    "    ncontrol = int(n)\n",
    "    nqubits = ncontrol+2\n",
    "    gate = log3_cnx(ncontrol=ncontrol, trace_depth_and_size=True)\n",
    "    d = access_polylog_depth(ncontrol)\n",
    "    depths.append(d)"
   ]
  },
  {
   "cell_type": "code",
   "execution_count": 5,
   "id": "f0174284-ab2f-4958-bb9f-506dc0b45c70",
   "metadata": {},
   "outputs": [],
   "source": [
    "np.save('data/log3_depth.npy', depths)\n",
    "np.save('data/x_axis.npy', xrange)"
   ]
  },
  {
   "cell_type": "code",
   "execution_count": 3,
   "id": "f357496a-d4ad-4bad-9517-8e4a7e4bcfd5",
   "metadata": {},
   "outputs": [
    {
     "name": "stdout",
     "output_type": "stream",
     "text": [
      "[  48.  3120.4]\n"
     ]
    }
   ],
   "source": [
    "silva_depth = [690, 790, 1586, 2042, 3610, 4410, 5258, 4702, 4756, 4798, 4852, 4894, 4948, 4990, 5044, 5086, 5140, 5182, 5236, 5278, 5332, 5374, 5428, 5470]\n",
    "range7 = list(range(26, 50))\n",
    "ext_range = np.linspace(50, 10**7, 100)\n",
    "fit = np.polyfit(range7[-5:], silva_depth[-5:],1)\n",
    "print(fit)\n",
    "ext_data = np.polyval(fit, ext_range)\n",
    "silva_range = range7+list(ext_range)\n",
    "silva_depth = silva_depth+list(ext_data)\n",
    "np.save('data/silva_range.npy', silva_range)\n",
    "np.save('data/silva_depth.npy', silva_depth)"
   ]
  },
  {
   "cell_type": "markdown",
   "id": "51d48ae7-cd0c-4fc6-8930-a0e062b6da29",
   "metadata": {},
   "source": [
    "# Proposition 2"
   ]
  },
  {
   "cell_type": "code",
   "execution_count": null,
   "id": "7b5bb8fe-7cfc-4051-abfb-5f629a6320e3",
   "metadata": {},
   "outputs": [
    {
     "name": "stdout",
     "output_type": "stream",
     "text": [
      "10 [2286]\n",
      "13 [2286, 4604]\n",
      "17 [2286, 4604, 9024]\n",
      "23 [2286, 4604, 9024, 18534]\n",
      "30 [2286, 4604, 9024, 18534, 33674]\n",
      "40 [2286, 4604, 9024, 18534, 33674, 57966]\n",
      "54 [2286, 4604, 9024, 18534, 33674, 57966, 87724]\n",
      "71 [2286, 4604, 9024, 18534, 33674, 57966, 87724, 115774]\n",
      "95 [2286, 4604, 9024, 18534, 33674, 57966, 87724, 115774, 148622]\n",
      "126 [2286, 4604, 9024, 18534, 33674, 57966, 87724, 115774, 148622, 188522]\n",
      "167 [2286, 4604, 9024, 18534, 33674, 57966, 87724, 115774, 148622, 188522, 230582]\n",
      "222 [2286, 4604, 9024, 18534, 33674, 57966, 87724, 115774, 148622, 188522, 230582, 280678]\n",
      "294 [2286, 4604, 9024, 18534, 33674, 57966, 87724, 115774, 148622, 188522, 230582, 280678, 331390]\n",
      "390 [2286, 4604, 9024, 18534, 33674, 57966, 87724, 115774, 148622, 188522, 230582, 280678, 331390, 406974]\n",
      "517 [2286, 4604, 9024, 18534, 33674, 57966, 87724, 115774, 148622, 188522, 230582, 280678, 331390, 406974, 460230]\n",
      "686 [2286, 4604, 9024, 18534, 33674, 57966, 87724, 115774, 148622, 188522, 230582, 280678, 331390, 406974, 460230, 543034]\n",
      "910 [2286, 4604, 9024, 18534, 33674, 57966, 87724, 115774, 148622, 188522, 230582, 280678, 331390, 406974, 460230, 543034, 611234]\n",
      "1206 [2286, 4604, 9024, 18534, 33674, 57966, 87724, 115774, 148622, 188522, 230582, 280678, 331390, 406974, 460230, 543034, 611234, 687450]\n",
      "1599 [2286, 4604, 9024, 18534, 33674, 57966, 87724, 115774, 148622, 188522, 230582, 280678, 331390, 406974, 460230, 543034, 611234, 687450, 808850]\n",
      "2120 [2286, 4604, 9024, 18534, 33674, 57966, 87724, 115774, 148622, 188522, 230582, 280678, 331390, 406974, 460230, 543034, 611234, 687450, 808850, 866938]\n",
      "2811 [2286, 4604, 9024, 18534, 33674, 57966, 87724, 115774, 148622, 188522, 230582, 280678, 331390, 406974, 460230, 543034, 611234, 687450, 808850, 866938, 1021650]\n",
      "3727 [2286, 4604, 9024, 18534, 33674, 57966, 87724, 115774, 148622, 188522, 230582, 280678, 331390, 406974, 460230, 543034, 611234, 687450, 808850, 866938, 1021650, 1069010]\n",
      "4941 [2286, 4604, 9024, 18534, 33674, 57966, 87724, 115774, 148622, 188522, 230582, 280678, 331390, 406974, 460230, 543034, 611234, 687450, 808850, 866938, 1021650, 1069010, 1227850]\n",
      "6551 [2286, 4604, 9024, 18534, 33674, 57966, 87724, 115774, 148622, 188522, 230582, 280678, 331390, 406974, 460230, 543034, 611234, 687450, 808850, 866938, 1021650, 1069010, 1227850, 1326850]\n",
      "8685 [2286, 4604, 9024, 18534, 33674, 57966, 87724, 115774, 148622, 188522, 230582, 280678, 331390, 406974, 460230, 543034, 611234, 687450, 808850, 866938, 1021650, 1069010, 1227850, 1326850, 1483450]\n"
     ]
    }
   ],
   "source": [
    "epsilon = 1./10**7\n",
    "cutoff = int(np.ceil(np.log2(np.pi/epsilon)))\n",
    "approx_depths = []\n",
    "for n in xrange:\n",
    "    ncontrol = int(n)\n",
    "    d = 0\n",
    "    for k in range(1, min([cutoff+1, ncontrol])):\n",
    "        local = ncontrol - k\n",
    "        nqubits = local+2\n",
    "        gate = log3_cnx(ncontrol=local, trace_depth_and_size=True)\n",
    "        d += 2*access_polylog_depth(local)+10\n",
    "    approx_depths.append(d)\n",
    "    print(ncontrol, approx_depths)"
   ]
  },
  {
   "cell_type": "code",
   "execution_count": null,
   "id": "e71f9c7f-b5e4-489b-a076-119a11245c9e",
   "metadata": {},
   "outputs": [],
   "source": [
    "print(cutoff)"
   ]
  },
  {
   "cell_type": "markdown",
   "id": "73a48b18-695d-4719-b635-a13028b33238",
   "metadata": {},
   "source": [
    "# Fit"
   ]
  },
  {
   "cell_type": "code",
   "execution_count": 28,
   "id": "a1a54362-34a7-449e-90cb-62ac8e02903c",
   "metadata": {},
   "outputs": [
    {
     "name": "stdout",
     "output_type": "stream",
     "text": [
      "[   43.02638831 -1287.18689503]\n"
     ]
    }
   ],
   "source": [
    "xdata = [np.log(n)**3 for n in xrange]\n",
    "fit = np.polyfit(xdata, depths, 1)\n",
    "print(fit)"
   ]
  },
  {
   "cell_type": "markdown",
   "id": "3a67879a-0e55-48ad-beeb-85208592c983",
   "metadata": {},
   "source": [
    "# Ancillae 100"
   ]
  },
  {
   "cell_type": "code",
   "execution_count": 2,
   "id": "38dcaa19-9b78-4039-895d-4677ee2dbec9",
   "metadata": {},
   "outputs": [],
   "source": [
    "from polylog_mcx import one_ancilla_mcx\n",
    "# Barenco one zeroed\n",
    "nc = 100\n",
    "depth_one_clean_ancilla = 36*100-111\n",
    "# Barenco v chain\n",
    "depth_v_chain = 12*nc-12\n",
    "# He\n",
    "depth_he = 16*np.ceil(np.log2(100))+12\n",
    "dhe = lambda n : 16*np.ceil(np.log2(n))+12\n",
    "# Prop1\n",
    "for k in range(1, nc+1):\n",
    "    log3_cnx(k, True)\n",
    "zeroed = [0]+[access_polylog_depth(n) for n in range(1,5)]\n",
    "for n in range(5, nc+1):\n",
    "    p = int(np.floor(np.sqrt(n)))\n",
    "    zeroed.append(.5*access_polylog_depth(n)+access_polylog_depth(2*p))\n",
    "prop3 = [zeroed[nc]]\n",
    "for k in range(2, nc):\n",
    "    prop3.append(min([min(prop3),2*zeroed[int(np.floor(2*n/k))]+dhe(np.floor(k/2))]))\n",
    "prop3.append(depth_he)\n",
    "np.save('data/ancillae_100.npy', prop3)"
   ]
  },
  {
   "cell_type": "markdown",
   "id": "1c05f5c9-9cd8-4a4b-816d-4d23ac79bd73",
   "metadata": {},
   "source": [
    "# Ancillae 10000"
   ]
  },
  {
   "cell_type": "code",
   "execution_count": 2,
   "id": "ff739f18-3733-45f6-af0d-3dd2cb9825d2",
   "metadata": {},
   "outputs": [
    {
     "name": "stdout",
     "output_type": "stream",
     "text": [
      "here\n",
      "10\n",
      "12\n",
      "14\n",
      "17\n",
      "21\n",
      "25\n",
      "30\n",
      "37\n",
      "44\n",
      "54\n",
      "65\n",
      "79\n",
      "95\n",
      "115\n",
      "138\n",
      "167\n",
      "202\n",
      "244\n",
      "294\n",
      "355\n",
      "429\n",
      "517\n",
      "625\n",
      "754\n",
      "910\n",
      "1098\n",
      "1325\n",
      "1599\n",
      "1930\n",
      "2329\n",
      "2811\n",
      "3393\n",
      "4094\n",
      "4941\n",
      "5963\n",
      "7196\n",
      "8685\n",
      "10481\n",
      "12648\n",
      "15264\n",
      "18420\n",
      "22229\n",
      "26826\n",
      "32374\n",
      "39069\n",
      "47148\n",
      "56898\n",
      "68664\n",
      "82864\n",
      "100000\n"
     ]
    }
   ],
   "source": [
    "from polylog_mcx import one_ancilla_mcx\n",
    "# Barenco one zeroed\n",
    "nc = 10**5\n",
    "depth_one_clean_ancilla = 36*nc-111\n",
    "# Barenco v chain\n",
    "depth_v_chain = 12*nc-12\n",
    "# He\n",
    "depth_he = 16*np.ceil(np.log2(nc))+12\n",
    "dhe = lambda n : 16*np.ceil(np.log2(n))+12\n",
    "# Prop1\n",
    "p = int(np.floor(np.sqrt(nc)))\n",
    "print('here')\n",
    "_ = log3_cnx(2*p, True)\n",
    "_ = log3_cnx(nc, True)\n",
    "prop3 = [.5*access_polylog_depth(nc)+access_polylog_depth(2*p)]\n",
    "krange = [int(k) for k in list(np.logspace(1, 5, 50))]\n",
    "for k in krange:\n",
    "    blocsize = int(np.ceil(2*nc/k))\n",
    "    p = int(np.floor(np.sqrt(blocsize)))\n",
    "    print(k)\n",
    "    _ = log3_cnx(2*p, True)\n",
    "    _ = log3_cnx(blocsize, True)\n",
    "    z = .5*access_polylog_depth(blocsize)+access_polylog_depth(2*p)\n",
    "    prop3.append(min([min(prop3),2*z+dhe(np.floor(k/2))]))\n",
    "prop3.append(depth_he)\n",
    "np.save('data/ancillae_100000.npy', prop3)"
   ]
  },
  {
   "cell_type": "code",
   "execution_count": null,
   "id": "b8a33d9a-41d3-4c99-a2df-fdbc96cee7d9",
   "metadata": {},
   "outputs": [],
   "source": []
  },
  {
   "cell_type": "code",
   "execution_count": null,
   "id": "b71d7be6-cfe0-49fd-b73f-eadd77043502",
   "metadata": {},
   "outputs": [],
   "source": []
  }
 ],
 "metadata": {
  "kernelspec": {
   "display_name": "Python 3",
   "language": "python",
   "name": "python3"
  },
  "language_info": {
   "codemirror_mode": {
    "name": "ipython",
    "version": 3
   },
   "file_extension": ".py",
   "mimetype": "text/x-python",
   "name": "python",
   "nbconvert_exporter": "python",
   "pygments_lexer": "ipython3",
   "version": "3.9.2"
  }
 },
 "nbformat": 4,
 "nbformat_minor": 5
}
